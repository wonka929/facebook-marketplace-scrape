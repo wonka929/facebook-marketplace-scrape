{
 "cells": [
  {
   "cell_type": "code",
   "execution_count": 97,
   "id": "d1952ae9",
   "metadata": {},
   "outputs": [],
   "source": [
    "import requests\n",
    "import os\n",
    "import pandas as pd\n",
    "import ast\n",
    "import requests\n",
    "from tqdm.notebook import tqdm\n",
    "import warnings\n",
    "warnings.filterwarnings('ignore')\n",
    "\n",
    "città = ['Roma', 'Milano', 'Napoli', 'Torino', 'Palermo', 'Genova', 'Bologna', 'Firenze', 'Bari', 'Catania', 'Venezia', 'Verona', 'Messina', 'Padova', 'Trieste', 'Taranto', 'Brescia', 'Parma', 'Prato', 'Modena', 'Reggio Calabria', 'Reggio Emilia', 'Perugia', 'Ravenna', 'Livorno', 'Cagliari', 'Foggia', 'Rimini', 'Salerno', 'Ferrara', 'Sassari', 'Latina', 'Giugliano in Campania', 'Monza', 'Siracusa', 'Pescara', 'Bergamo', 'Forlì', 'Trento', 'Vicenza', 'Terni', 'Bolzano', 'Novara', 'Piacenza', 'Ancona', 'Andria', 'Arezzo', 'Udine', 'Cesena', 'Lecce']\n"
   ]
  },
  {
   "cell_type": "code",
   "execution_count": 98,
   "id": "8ffbd593",
   "metadata": {},
   "outputs": [],
   "source": [
    "città = pd.read_csv('comuni.csv')['Comune'].values"
   ]
  },
  {
   "cell_type": "code",
   "execution_count": 99,
   "id": "0657d0ce",
   "metadata": {},
   "outputs": [],
   "source": [
    "def get_infos(city):\n",
    "    cookies = {\n",
    "        'datr': 'WvO2X9V2-3aiEpoqFAZ-QE6T',\n",
    "        'sb': 'o2-5X6ngB1Jg_LSDxiwQNKqf',\n",
    "        'c_user': '1324656098',\n",
    "        'oo': 'v1',\n",
    "        'wd': '1351x669',\n",
    "        'xs': '16%3ABGP02ip7qpW6bQ%3A2%3A1605988310%3A-1%3A10340%3A%3AAcXnXhLyi2IFc058B3DMQoBehaAhhFWX7Du9MvJYXJrY',\n",
    "        'fr': '08aZcB3B4tsH7iVPD.AWVjAVBAS2Hysxxa9l_RwY-ddYI.Bic5zF.dY.AAA.0.0.Bic5zF.AWWKmsB6ik0',\n",
    "        'presence': 'C%7B%22t3%22%3A%5B%5D%2C%22utc3%22%3A1651744472124%2C%22v%22%3A1%7D',\n",
    "    }\n",
    "\n",
    "    headers = {\n",
    "        # Requests sorts cookies= alphabetically\n",
    "        # 'cookie': 'datr=WvO2X9V2-3aiEpoqFAZ-QE6T; sb=o2-5X6ngB1Jg_LSDxiwQNKqf; c_user=1324656098; oo=v1; wd=1351x669; xs=16%3ABGP02ip7qpW6bQ%3A2%3A1605988310%3A-1%3A10340%3A%3AAcXnXhLyi2IFc058B3DMQoBehaAhhFWX7Du9MvJYXJrY; fr=08aZcB3B4tsH7iVPD.AWVjAVBAS2Hysxxa9l_RwY-ddYI.Bic5zF.dY.AAA.0.0.Bic5zF.AWWKmsB6ik0; presence=C%7B%22t3%22%3A%5B%5D%2C%22utc3%22%3A1651744472124%2C%22v%22%3A1%7D',\n",
    "        'x-fb-friendly-name': 'useCometTopChartsCitiesSearchDataSourceQuery',\n",
    "    }\n",
    "\n",
    "    data = {\n",
    "        'av': '1324656098',\n",
    "        '__user': '1324656098',\n",
    "        '__a': '1',\n",
    "        '__dyn': '7AzHK4HwkEng5KbxG4VuC0BVU98nwgU29gS3q2ibwNw9G2S7o762S1DwUx609vCxS320om782Cwwwqo465o-cw5MKdwGwQw9m8wsU9kbxS2218wc61axe3S68f85qfK6E7e58jwGzEaE5e7oqBwJK2W5olwUwOzEjUlDw-wUws9ovUaU6a0BFobpEbUGdG0HE5d08O321bwzw',\n",
    "        '__csr': 'hsZgxidvPhAZEX5sptl4iOT9QzqmGSBB8xmJAGGRayaBlkFkLFp9SGkJrpIxpfCBJ7BBWACKlrUOEqBBEwycgS6Q8AgB4xCm9yHyrglzWK3CiuWCAxymFaDK2WeyUSEcbwoVEa8C5U8EgwMwo8O6o88kwUKl5wWxWq265U7u26223a2y6U2MwpES0Lo5K12xeewrUfodEao6G2y0j66E662e0wXw77w3yE0f0k04rQU02htw4qxG2ybVp80a6U1zE0Ay0C80Ta6UsO00IdwFg5dw1wV01S208Ew35o',\n",
    "        '__req': '4q',\n",
    "        '__hs': '19117.HYP:comet_pkg.2.1.0.2.',\n",
    "        'dpr': '1',\n",
    "        '__ccg': 'EXCELLENT',\n",
    "        '__rev': '1005458933',\n",
    "        '__s': 'trr1oq:r79med:4bt8on',\n",
    "        '__hsi': '7094188447027307892-0',\n",
    "        '__comet_req': '1',\n",
    "        'fb_dtsg': 'AQHPs5C4XDSwIvY:16:1605988310',\n",
    "        'jazoest': '21963',\n",
    "        'lsd': '-4Zt6UlWkZ8Tohq6kB9VoV',\n",
    "        '__spin_r': '1005458933',\n",
    "        '__spin_b': 'trunk',\n",
    "        '__spin_t': '1651744462',\n",
    "        'fb_api_caller_class': 'RelayModern',\n",
    "        'fb_api_req_friendly_name': 'useCometTopChartsCitiesSearchDataSourceQuery',\n",
    "        'variables': '{\"query\":\"'+city+'\"}',\n",
    "        'server_timestamps': 'true',\n",
    "        'doc_id': '4162320683871224',\n",
    "    }\n",
    "\n",
    "    response = requests.post('https://www.facebook.com/api/graphql/', cookies=cookies, headers=headers, data=data)\n",
    "    return response.text"
   ]
  },
  {
   "cell_type": "code",
   "execution_count": 100,
   "id": "fdc33087",
   "metadata": {
    "scrolled": true
   },
   "outputs": [
    {
     "data": {
      "application/vnd.jupyter.widget-view+json": {
       "model_id": "0cd9d85e633348b9a1c4810cb7db286c",
       "version_major": 2,
       "version_minor": 0
      },
      "text/plain": [
       "  0%|          | 0/8092 [00:00<?, ?it/s]"
      ]
     },
     "metadata": {},
     "output_type": "display_data"
    }
   ],
   "source": [
    "ids = pd.DataFrame()\n",
    "\n",
    "for city in tqdm(città):\n",
    "    resp = get_infos(city)\n",
    "    resp = str(resp).replace('true', '\"true\"')\n",
    "    res = ast.literal_eval(resp)\n",
    "    for elem in res['data']['top_charts_cities_search_results']['results']:\n",
    "        slice = {'città' :elem['label'], 'udi' :elem['uid'], 'timezone':elem['timezone']}\n",
    "        ids = ids.append(slice, ignore_index=True)"
   ]
  },
  {
   "cell_type": "code",
   "execution_count": 101,
   "id": "50888fcb",
   "metadata": {},
   "outputs": [],
   "source": [
    "ids = ids[ids['timezone']=='Europe/Rome']"
   ]
  },
  {
   "cell_type": "code",
   "execution_count": 107,
   "id": "0a7616e9",
   "metadata": {},
   "outputs": [],
   "source": [
    "ids.drop_duplicates(inplace=True, ignore_index=True)"
   ]
  },
  {
   "cell_type": "code",
   "execution_count": 108,
   "id": "7f3670df",
   "metadata": {},
   "outputs": [],
   "source": [
    "ids.to_csv('id_citta.csv', sep=';')"
   ]
  },
  {
   "cell_type": "code",
   "execution_count": 113,
   "id": "e4e46417",
   "metadata": {},
   "outputs": [],
   "source": [
    "import difflib\n",
    "\n",
    "def get_closest_match(x, other, cutoff):\n",
    "    matches = difflib.get_close_matches(x, other, cutoff=cutoff)\n",
    "    return matches[0] if matches else None"
   ]
  },
  {
   "cell_type": "code",
   "execution_count": 129,
   "id": "19cd1c3d",
   "metadata": {},
   "outputs": [
    {
     "name": "stdout",
     "output_type": "stream",
     "text": [
      "Civitavecchia\n"
     ]
    }
   ],
   "source": [
    "print()"
   ]
  },
  {
   "cell_type": "code",
   "execution_count": 136,
   "id": "5faeecae",
   "metadata": {},
   "outputs": [
    {
     "data": {
      "text/html": [
       "<div>\n",
       "<style scoped>\n",
       "    .dataframe tbody tr th:only-of-type {\n",
       "        vertical-align: middle;\n",
       "    }\n",
       "\n",
       "    .dataframe tbody tr th {\n",
       "        vertical-align: top;\n",
       "    }\n",
       "\n",
       "    .dataframe thead th {\n",
       "        text-align: right;\n",
       "    }\n",
       "</style>\n",
       "<table border=\"1\" class=\"dataframe\">\n",
       "  <thead>\n",
       "    <tr style=\"text-align: right;\">\n",
       "      <th></th>\n",
       "      <th>città</th>\n",
       "      <th>udi</th>\n",
       "      <th>timezone</th>\n",
       "    </tr>\n",
       "  </thead>\n",
       "  <tbody>\n",
       "    <tr>\n",
       "      <th>2015</th>\n",
       "      <td>Cinisello Balsamo</td>\n",
       "      <td>107953405900332</td>\n",
       "      <td>Europe/Rome</td>\n",
       "    </tr>\n",
       "  </tbody>\n",
       "</table>\n",
       "</div>"
      ],
      "text/plain": [
       "                  città              udi     timezone\n",
       "2015  Cinisello Balsamo  107953405900332  Europe/Rome"
      ]
     },
     "execution_count": 136,
     "metadata": {},
     "output_type": "execute_result"
    }
   ],
   "source": [
    "ids[ids['città'] == get_closest_match(\"cinisello balsamo\", ids['città'].values, cutoff=0.8)]"
   ]
  },
  {
   "cell_type": "code",
   "execution_count": null,
   "id": "12aa8ae0",
   "metadata": {},
   "outputs": [],
   "source": []
  }
 ],
 "metadata": {
  "kernelspec": {
   "display_name": "Python 3 (ipykernel)",
   "language": "python",
   "name": "python3"
  },
  "language_info": {
   "codemirror_mode": {
    "name": "ipython",
    "version": 3
   },
   "file_extension": ".py",
   "mimetype": "text/x-python",
   "name": "python",
   "nbconvert_exporter": "python",
   "pygments_lexer": "ipython3",
   "version": "3.10.4"
  }
 },
 "nbformat": 4,
 "nbformat_minor": 5
}
